{
 "cells": [
  {
   "cell_type": "code",
   "execution_count": 38,
   "id": "076582c4",
   "metadata": {
    "scrolled": true
   },
   "outputs": [],
   "source": [
    "#1.1 - IMPORT THE NECESSARY LIBRARIES\n",
    "# !pip install --upgrade pip\n",
    "# !pip install numpy\n",
    "# !pip install open3d\n",
    "# !pip install plotly\n",
    "# !pip install matplotlib\n",
    "# !pip install sklearn\n",
    "import os\n",
    "import numpy as np\n",
    "import open3d as o3d\n",
    "import plotly.graph_objects as go\n",
    "from matplotlib import pyplot as plt\n",
    "from sklearn.neighbors import NearestNeighbors"
   ]
  },
  {
   "cell_type": "code",
   "execution_count": 39,
   "id": "ab33e384",
   "metadata": {},
   "outputs": [],
   "source": [
    "#To get the names of all the files to later segment and visualize all the meshes in scaled folder\n",
    "\n",
    "def get_fileNames(folder_path):\n",
    "    \n",
    "    # create an empty list to store the file names\n",
    "    file_names = []\n",
    "\n",
    "    # go through each file in the folder\n",
    "    for filename in os.listdir(folder_path):\n",
    "        # add the file name to the list\n",
    "        file_names.append(filename)\n",
    "\n",
    "    # print the list of file names\n",
    "    return(file_names)"
   ]
  },
  {
   "cell_type": "code",
   "execution_count": 40,
   "id": "51c142dd",
   "metadata": {},
   "outputs": [],
   "source": [
    "def estimate_epsilon(dataset):\n",
    "    # Compute distances to 20th nearest neighbor\n",
    "    neighbors = NearestNeighbors(n_neighbors=20)\n",
    "    neighbors_fit = neighbors.fit(dataset)\n",
    "    distances, indices = neighbors_fit.kneighbors(dataset)\n",
    "\n",
    "    distances = np.sort(distances, axis=0)\n",
    "    distances = distances[:,1]\n",
    "\n",
    "    # Compute curvature\n",
    "    dx = 1\n",
    "    dy = np.gradient(distances, dx)\n",
    "    d2y = np.gradient(dy, dx)\n",
    "    curvature = np.abs(d2y) / (1 + dy**2)**(3/2)\n",
    "\n",
    "    # Find point of maximum curvature\n",
    "    max_curvature_idx = np.argmax(curvature)\n",
    "    max_curvature_point = (max_curvature_idx, distances[max_curvature_idx])\n",
    "    \n",
    "#     print(\"this is the max curvature point/epsilon:\",max_curvature_point[1])\n",
    "    \n",
    "# Plot curve and maximum curvature point\n",
    "#     plt.plot(distances)\n",
    "#     plt.plot(*max_curvature_point, 'ro')\n",
    "#     plt.show()\n",
    "    return(max_curvature_point[1]) #estimated epsilon"
   ]
  },
  {
   "cell_type": "code",
   "execution_count": 41,
   "id": "8cb712f3",
   "metadata": {},
   "outputs": [],
   "source": [
    "\n",
    "\n",
    "def get_best_distance_threshold(point_cloud):\n",
    "    \"\"\"\n",
    "    Calculates the best distance threshold value for a given point cloud.\n",
    "\n",
    "    Args:\n",
    "        point_cloud (open3d.geometry.PointCloud): Point cloud to calculate threshold for.\n",
    "\n",
    "    Returns:\n",
    "        float: Best distance threshold value.\n",
    "    \"\"\"\n",
    "    distances = point_cloud.compute_nearest_neighbor_distance()\n",
    "    mean_dist = np.mean(distances)\n",
    "    std_dist = np.std(distances)\n",
    "    threshold = mean_dist + 0.5 * std_dist\n",
    "\n",
    "    return threshold\n"
   ]
  },
  {
   "cell_type": "code",
   "execution_count": 42,
   "id": "3cf8fc4c",
   "metadata": {},
   "outputs": [],
   "source": [
    "def refined_ransac(pcd):\n",
    "    segment_models={}\n",
    "    segments={}\n",
    "    max_plane_idx=20\n",
    "    rest=pcd\n",
    "    d_threshold= get_best_distance_threshold(pcd)\n",
    "    for i in range(max_plane_idx):\n",
    "        colors = plt.get_cmap(\"tab20\")(i)\n",
    "        segment_models[i], inliers = rest.segment_plane(distance_threshold=d_threshold,ransac_n=3,num_iterations=1000)\n",
    "        segments[i]=rest.select_by_index(inliers)\n",
    "        labels = np.array(segments[i].cluster_dbscan(eps=d_threshold*10, min_points=10))\n",
    "        candidates=[len(np.where(labels==j)[0]) for j in np.unique(labels)]\n",
    "        best_candidate=int(np.array(np.unique(labels)[np.where(candidates==np.max(candidates))[0]])[0])\n",
    "        print(\"the best candidate is: \", best_candidate)\n",
    "        rest = rest.select_by_index(inliers, invert=True)+segments[i].select_by_index(list(np.where(labels!=best_candidate)[0]))\n",
    "        segments[i]=segments[i].select_by_index(list(np.where(labels==best_candidate)[0]))\n",
    "        segments[i].paint_uniform_color(list(colors[:3]))\n",
    "        print(\"pass\",i+1,\"/\",max_plane_idx,\"done.\")\n",
    "    return rest, segments,max_plane_idx\n",
    "    "
   ]
  },
  {
   "cell_type": "code",
   "execution_count": 43,
   "id": "b7feca1c",
   "metadata": {},
   "outputs": [],
   "source": [
    "def euclidean_dbscan(rest): \n",
    "    dataset = np.array(rest.points)\n",
    "    epsilon = estimate_epsilon(dataset)\n",
    "    labels = np.array(rest.cluster_dbscan(eps=epsilon, min_points=5))\n",
    "    max_label = labels.max()\n",
    "    print(f\"point cloud has {max_label + 1} clusters\")\n",
    "\n",
    "    colors = plt.get_cmap(\"tab10\")(labels / (max_label if max_label > 0 else 1))\n",
    "    colors[labels < 0] = 0\n",
    "    rest.colors = o3d.utility.Vector3dVector(colors[:, :3])\n",
    "    print(\"\\n\\n\")\n",
    "    return(rest)"
   ]
  },
  {
   "cell_type": "code",
   "execution_count": 44,
   "id": "071da980",
   "metadata": {},
   "outputs": [],
   "source": [
    "def draw_plotly(rest,segments):\n",
    "    #o3d.visualization.draw_geometries([segments[i] for i in range(max_plane_idx)]+[rest])\n",
    "    points = np.asarray(rest.points)\n",
    "\n",
    "    fig = go.Figure()\n",
    "\n",
    "    if rest.colors != None:\n",
    "        colors = np.asarray(rest.colors)\n",
    "    else:\n",
    "        colors = np.ones(len(np.asarray(rest.points)))\n",
    "\n",
    "    fig.add_traces(go.Scatter3d(x=points[:,0], y=points[:,1], z=points[:,2], \n",
    "            mode='markers',\n",
    "            marker=dict(size=1, color=colors)))\n",
    "    for i in range(len(segments)):\n",
    "        pc=np.asarray(segments[i].points)\n",
    "        fig.add_traces(go.Scatter3d(x=pc[:,0], y=pc[:,1], z=pc[:,2], \n",
    "            mode='markers',\n",
    "            marker=dict(size=1, color=np.asarray(segments[i].colors))))\n",
    "    fig.update_layout(dict(scene = dict(aspectmode='data')))\n",
    "    fig.show()"
   ]
  },
  {
   "cell_type": "code",
   "execution_count": 45,
   "id": "d4f6f33b",
   "metadata": {
    "scrolled": false
   },
   "outputs": [],
   "source": [
    "#Getting the names of all files in the Archive folder\n",
    "fileNames = get_fileNames(\"Archive\")\n",
    "\n",
    "#making a mesh of the stl file; please change the current file index number to see the segmentation of other \n",
    "#stl meshes\n",
    "current_file = 3\n",
    "mesh = o3d.io.read_triangle_mesh('Archive'+'/'+fileNames[current_file])  \n",
    "\n",
    "pcd = mesh.sample_points_uniformly(number_of_points=2000000)    \n"
   ]
  },
  {
   "cell_type": "code",
   "execution_count": 46,
   "id": "7f97efa6",
   "metadata": {
    "scrolled": true
   },
   "outputs": [
    {
     "name": "stdout",
     "output_type": "stream",
     "text": [
      "the best candidate is:  0\n",
      "pass 1 / 20 done.\n",
      "the best candidate is:  0\n",
      "pass 2 / 20 done.\n",
      "the best candidate is:  0\n",
      "pass 3 / 20 done.\n",
      "the best candidate is:  0\n",
      "pass 4 / 20 done.\n",
      "the best candidate is:  0\n",
      "pass 5 / 20 done.\n",
      "the best candidate is:  0\n",
      "pass 6 / 20 done.\n",
      "the best candidate is:  0\n",
      "pass 7 / 20 done.\n",
      "the best candidate is:  0\n",
      "pass 8 / 20 done.\n",
      "the best candidate is:  0\n",
      "pass 9 / 20 done.\n",
      "the best candidate is:  0\n",
      "pass 10 / 20 done.\n",
      "the best candidate is:  9\n",
      "pass 11 / 20 done.\n",
      "the best candidate is:  8\n",
      "pass 12 / 20 done.\n",
      "the best candidate is:  0\n",
      "pass 13 / 20 done.\n",
      "the best candidate is:  0\n",
      "pass 14 / 20 done.\n",
      "the best candidate is:  1\n",
      "pass 15 / 20 done.\n",
      "the best candidate is:  0\n",
      "pass 16 / 20 done.\n",
      "the best candidate is:  0\n",
      "pass 17 / 20 done.\n",
      "the best candidate is:  1\n",
      "pass 18 / 20 done.\n",
      "the best candidate is:  14\n",
      "pass 19 / 20 done.\n",
      "the best candidate is:  0\n",
      "pass 20 / 20 done.\n",
      "point cloud has 47 clusters\n",
      "\n",
      "\n",
      "\n"
     ]
    }
   ],
   "source": [
    "#applying ransac on the point cloud and dbscan on each segment and colorizing them\n",
    "rest,segments,max_plane_idx = refined_ransac(pcd)\n",
    "\n",
    "#applying ransac on the rest of the points (outliers)\n",
    "rest = euclidean_dbscan(rest)"
   ]
  },
  {
   "cell_type": "code",
   "execution_count": 47,
   "id": "f165d0c6",
   "metadata": {},
   "outputs": [],
   "source": [
    "o3d.visualization.draw_geometries([segments[i] for i in range(max_plane_idx)]+[rest])\n",
    "# draw_plotly(rest,segments)"
   ]
  }
 ],
 "metadata": {
  "kernelspec": {
   "display_name": "Python 3 (ipykernel)",
   "language": "python",
   "name": "python3"
  },
  "language_info": {
   "codemirror_mode": {
    "name": "ipython",
    "version": 3
   },
   "file_extension": ".py",
   "mimetype": "text/x-python",
   "name": "python",
   "nbconvert_exporter": "python",
   "pygments_lexer": "ipython3",
   "version": "3.9.16"
  }
 },
 "nbformat": 4,
 "nbformat_minor": 5
}
