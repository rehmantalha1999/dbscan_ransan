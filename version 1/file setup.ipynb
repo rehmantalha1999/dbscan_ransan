{
 "cells": [
  {
   "cell_type": "code",
   "execution_count": 1,
   "id": "4355652b",
   "metadata": {},
   "outputs": [
    {
     "name": "stdout",
     "output_type": "stream",
     "text": [
      "Jupyter environment detected. Enabling Open3D WebVisualizer.\n",
      "[Open3D INFO] WebRTC GUI backend enabled.\n",
      "[Open3D INFO] WebRTCWindowSystem: HTTP handshake server disabled.\n"
     ]
    }
   ],
   "source": [
    "import os\n",
    "import numpy as np\n",
    "import open3d as o3d"
   ]
  },
  {
   "cell_type": "code",
   "execution_count": 2,
   "id": "7aaf3ea9",
   "metadata": {},
   "outputs": [],
   "source": [
    "#get all file names from either the Archive folder to sample points from the stl files\n",
    "#OR get all the file names from the unscaled folder to later scale and store them in scaled folder\n",
    "\n",
    "def get_fileNames(folder_path):\n",
    "    \n",
    "    # create an empty list to store the file names\n",
    "    file_names = []\n",
    "\n",
    "    # go through each file in the folder\n",
    "    for filename in os.listdir(folder_path):\n",
    "        # add the file name to the list\n",
    "        file_names.append(filename)\n",
    "\n",
    "    # print the list of file names\n",
    "    return(file_names)"
   ]
  },
  {
   "cell_type": "code",
   "execution_count": 3,
   "id": "afb01b9c",
   "metadata": {},
   "outputs": [],
   "source": [
    "#since open3d cannot work with stl files, we have to sample points to either .ply or .pcd extension\n",
    "\n",
    "def stl_to_ply(fileName_stl, noOfPoints,source_folder,destination_folder):\n",
    "    mesh = o3d.io.read_triangle_mesh(source_folder+'/'+fileName_stl)\n",
    "    pcd = mesh.sample_points_poisson_disk(noOfPoints)\n",
    "    o3d.io.write_point_cloud(destination_folder+'/'+fileName_stl.split('.')[0]+'.ply', pcd)\n",
    "    return(pcd)"
   ]
  },
  {
   "cell_type": "code",
   "execution_count": 4,
   "id": "68131fa3",
   "metadata": {},
   "outputs": [],
   "source": [
    "#scales a single point cloud's volume (in ply or pcd format) to the reference dataset\n",
    "\n",
    "def scaler(fileName, reference, source_folder ,destination_folder):     \n",
    "    # Load the point clouds\n",
    "    pcd1 = o3d.io.read_point_cloud(source_folder+'/'+fileName)\n",
    "    pcd2 = o3d.io.read_point_cloud(reference)\n",
    "\n",
    "    # Get the bounding box diagonal lengths of each point cloud\n",
    "    bbox1 = pcd1.get_axis_aligned_bounding_box()\n",
    "    bbox2 = pcd2.get_axis_aligned_bounding_box()\n",
    "    diag1 = np.linalg.norm(np.asarray(bbox1.get_max_bound()) - np.asarray(bbox1.get_min_bound()))\n",
    "    diag2 = np.linalg.norm(np.asarray(bbox2.get_max_bound()) - np.asarray(bbox2.get_min_bound()))\n",
    "\n",
    "    # Scale the first point cloud to match the diagonal length of the second point cloud\n",
    "    scale_factor = diag2 / diag1\n",
    "    pcd1.scale(scale_factor, center=bbox1.get_center())\n",
    "    \n",
    "    # Save the scaled point cloud to a file\n",
    "    o3d.io.write_point_cloud(destination_folder+\"/\"+fileName, pcd1)"
   ]
  },
  {
   "cell_type": "code",
   "execution_count": 5,
   "id": "f8250c33",
   "metadata": {},
   "outputs": [],
   "source": [
    "def sampleAllFiles():\n",
    "    fileNames = get_fileNames(\"Archive\")\n",
    "    referenceFile = \"reference.ply\"\n",
    "    folderNameSource = \"Archive\"\n",
    "    folderNameDestination = \"unscaled\"\n",
    "    for fileName in fileNames:\n",
    "        stl_to_pcd(fileName,20_000, folderNameSource, folderNameDestination)"
   ]
  },
  {
   "cell_type": "code",
   "execution_count": 6,
   "id": "af0fd466",
   "metadata": {},
   "outputs": [],
   "source": [
    "#this function scales all the files in the unscaled folder and stores them in the \n",
    "def scaleAllFiles():\n",
    "    folderNameSource = \"unscaled\"\n",
    "    fileNames = get_fileNames(folderNameSource)\n",
    "    referenceFile = \"reference.ply\"\n",
    "    folderNameSource = \"unscaled\"\n",
    "    folderNameDestination = \"scaled\"\n",
    "    for fileName in fileNames:\n",
    "        scaler(fileName,referenceFile,folderNameSource, folderNameDestination)"
   ]
  },
  {
   "cell_type": "code",
   "execution_count": 63,
   "id": "0546293b",
   "metadata": {},
   "outputs": [],
   "source": [
    "# sampleAllFiles()"
   ]
  },
  {
   "cell_type": "code",
   "execution_count": 7,
   "id": "0737a80f",
   "metadata": {},
   "outputs": [],
   "source": [
    "# scaleAllFiles()"
   ]
  }
 ],
 "metadata": {
  "kernelspec": {
   "display_name": "Python 3 (ipykernel)",
   "language": "python",
   "name": "python3"
  },
  "language_info": {
   "codemirror_mode": {
    "name": "ipython",
    "version": 3
   },
   "file_extension": ".py",
   "mimetype": "text/x-python",
   "name": "python",
   "nbconvert_exporter": "python",
   "pygments_lexer": "ipython3",
   "version": "3.11.2"
  }
 },
 "nbformat": 4,
 "nbformat_minor": 5
}
